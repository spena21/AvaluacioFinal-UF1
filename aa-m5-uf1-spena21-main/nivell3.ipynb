{
 "cells": [
  {
   "cell_type": "markdown",
   "id": "d9409ac2-a03e-4f1b-bf13-b4f9b743f14b",
   "metadata": {},
   "source": [
    "# Nivell 3"
   ]
  },
  {
   "cell_type": "markdown",
   "id": "e5eac30b-97d3-4ab3-a5a3-85646f073baa",
   "metadata": {},
   "source": [
    "## Exercici 1"
   ]
  },
  {
   "cell_type": "markdown",
   "id": "3436098a-a41a-4a86-8be0-d40de49cac59",
   "metadata": {},
   "source": [
    "Al vostre repositori ```m5git``` heu d'afegir un fitxer markdown, anomenat nivell3.md, que sigui el màxim de semblant possible al fitxer model que hi ha a aquest repositori, anomenat _commonmark.pdf_\n",
    "\n",
    "Quan l'acabeu, afegiu-lo a la stage area de git amb ```git add``` i feu el commit amb el missatge \"Markdown nivell3 acabat: Nom Cognom\".\n",
    "\n",
    "Finalment feu el git push.\n"
   ]
  },
  {
   "cell_type": "markdown",
   "id": "ec565f9f-5e3d-4620-93b4-a1ec2e351fac",
   "metadata": {},
   "source": [
    "## Exercici 2"
   ]
  },
  {
   "cell_type": "markdown",
   "id": "f59887d1",
   "metadata": {},
   "source": [
    "1. Des de la branca main creem una nova branca anomenada nivell3 (no hi canviem encara)\n",
    "\n",
    "2. Des de la branca main, creem un nou fitxer anomenat nivell3.txt\n",
    "\n",
    "3. fem git status (el nou fitxer està a l'àrea de workspace)\n",
    "\n",
    "4. Canviem a la branca nivell3. Respon les següents preguntes:\n",
    "\n",
    "* Hi és el fitxer nivell3.txt a la nivell3?\n",
    "\n",
    "* És l'àrea de workspace comuna a les diferents branques?\n"
   ]
  },
  {
   "cell_type": "markdown",
   "id": "5dbbfcc8",
   "metadata": {},
   "source": [
    "Respostes:"
   ]
  },
  {
   "cell_type": "markdown",
   "id": "3fa9cd8f",
   "metadata": {
    "ExecuteTime": {
     "end_time": "2021-10-15T15:13:18.067108Z",
     "start_time": "2021-10-15T15:13:18.045562Z"
    }
   },
   "source": [
    "5. Tornem a la branca main\n",
    "\n",
    "6. Fem un git add nivell3.txt(el fitxer nivell3.txt passa a l'àrea índex)\n",
    "\n",
    "7. git status\n",
    "\n",
    "8. Anem de nou a la branca nivell3. Respon de nou les següents preguntes::\n",
    "\n",
    "* hi és el fitxer nivell3.txt a la nivell3?\n",
    "\n",
    "* És l'àrea de índex comuna a les diferents branques?\n"
   ]
  },
  {
   "cell_type": "markdown",
   "id": "3936939e-677a-4369-9e88-bb592d06e35c",
   "metadata": {},
   "source": [
    "Respostes:\n",
    "\n",
    "\n",
    "\n"
   ]
  },
  {
   "cell_type": "markdown",
   "id": "5e033ee9",
   "metadata": {},
   "source": [
    "9. Tornem a la branca main\n",
    "\n",
    "10. Fem un commit del fitxer nivell3.txt\n",
    "\n",
    "11. git status\n",
    "\n",
    "12. Anem de nou a la branca nivell3. Respon de nou a les següents preguntes:\n",
    "\n",
    "* hi és el fitxer nivell3.txt a la nivell3?\n",
    "* És l'àrea de repo local comuna a les diferents branques?"
   ]
  },
  {
   "cell_type": "markdown",
   "id": "20573b30",
   "metadata": {},
   "source": [
    "Respostes:"
   ]
  },
  {
   "cell_type": "code",
   "execution_count": null,
   "id": "06ec9194",
   "metadata": {},
   "outputs": [],
   "source": []
  },
  {
   "cell_type": "markdown",
   "id": "16813e29-10b8-45f1-84cd-84ab8da52898",
   "metadata": {},
   "source": [
    "# Instruccions de preparació del Nivell 3 per al lliurament\n",
    "\n",
    "## (A fer abans de fer el lliurament)"
   ]
  },
  {
   "cell_type": "markdown",
   "id": "f5d5f367-a69e-4f52-bba6-16c61f822f76",
   "metadata": {},
   "source": [
    "1. Us ubiqueu al vostre directori d'inici ```~/DAW/M051/uf1/aa-m5-uf1-username```\n",
    "2. Executa la següent comanda git **dins del repositori d'inici**:\n",
    "\n",
    "```bash\n",
    "git submodule update --remote\n",
    "```\n",
    "\n",
    "Així els repos remots ```_m5git_``` i ```_workspaces_``` se t'actualitzaran amb els canvis afegit al nivell 3. \n",
    "\n",
    "Finalment, fes un git add i un git commit amb el següent missatge: **Nom Cognom: nivell 3 acabat**\n",
    "\n"
   ]
  },
  {
   "cell_type": "code",
   "execution_count": null,
   "id": "a74aa397-c4ac-4262-a3bd-21fb0ee680d8",
   "metadata": {},
   "outputs": [],
   "source": []
  }
 ],
 "metadata": {
  "kernelspec": {
   "display_name": "Bash",
   "language": "bash",
   "name": "calysto_bash"
  },
  "language_info": {
   "file_extension": ".sh",
   "help_links": [
    {
     "text": "MetaKernel Magics",
     "url": "https://metakernel.readthedocs.io/en/latest/source/README.html"
    }
   ],
   "mimetype": "text/x-sh",
   "name": "bash",
   "version": "0.2.2"
  },
  "nbTranslate": {
   "displayLangs": [
    "*"
   ],
   "hotkey": "alt-t",
   "langInMainMenu": true,
   "sourceLang": "en",
   "targetLang": "ca",
   "useGoogleTranslate": true
  },
  "toc": {
   "base_numbering": 1,
   "nav_menu": {},
   "number_sections": true,
   "sideBar": true,
   "skip_h1_title": false,
   "title_cell": "Table of Contents",
   "title_sidebar": "Contents",
   "toc_cell": false,
   "toc_position": {},
   "toc_section_display": true,
   "toc_window_display": false
  },
  "varInspector": {
   "cols": {
    "lenName": 16,
    "lenType": 16,
    "lenVar": 40
   },
   "kernels_config": {
    "python": {
     "delete_cmd_postfix": "",
     "delete_cmd_prefix": "del ",
     "library": "var_list.py",
     "varRefreshCmd": "print(var_dic_list())"
    },
    "r": {
     "delete_cmd_postfix": ") ",
     "delete_cmd_prefix": "rm(",
     "library": "var_list.r",
     "varRefreshCmd": "cat(var_dic_list()) "
    }
   },
   "types_to_exclude": [
    "module",
    "function",
    "builtin_function_or_method",
    "instance",
    "_Feature"
   ],
   "window_display": false
  }
 },
 "nbformat": 4,
 "nbformat_minor": 5
}
