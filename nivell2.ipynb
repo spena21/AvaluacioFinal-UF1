{
 "cells": [
  {
   "cell_type": "markdown",
   "id": "d9409ac2-a03e-4f1b-bf13-b4f9b743f14b",
   "metadata": {},
   "source": [
    "# Nivell 2"
   ]
  },
  {
   "cell_type": "markdown",
   "id": "e5eac30b-97d3-4ab3-a5a3-85646f073baa",
   "metadata": {},
   "source": [
    "## Exercici 1"
   ]
  },
  {
   "cell_type": "markdown",
   "id": "3436098a-a41a-4a86-8be0-d40de49cac59",
   "metadata": {},
   "source": [
    "#### Fase 1\n",
    "Modifica el teu repositori local ```m5git``` del nivell 1 de la següent manera:\n",
    "\n",
    "- Crea la branca nivell2 des de la branca main, i canvia't a la branca nivell2\n",
    "- Afegeix el fitxer nivell2.md\n",
    "- Edita el fitxer nivell2.md amb un text de markdown que digui \"Estem al nivell 2\"\n",
    "- Commiteja els canvis (a la branca nivell2)\n",
    "- Fes un git push de la branca nivell2\n",
    "- Comprova a github que tens dues branques, i les diferències entre elles (la main i la branca nivell2)"
   ]
  },
  {
   "cell_type": "markdown",
   "id": "abeefbf2",
   "metadata": {},
   "source": [
    "#### Fase 2\n",
    "\n",
    "Continuem al mateix repo local ```m5git```, a la branca nivell2.\n",
    "\n",
    "- Crea un fitxer anomenat test2.md\n",
    "- Fem un commit del fitxer test2.md amb el missatge \"Commit test2: Nom Cognom\"\n",
    "- Elimina el fitxer test2.md amb la comanda ```rm``` de linux\n",
    "- Comprova amb git status (pots fer-ho després de cada pas)\n",
    "- Fes un git restore per a restaurar el fitxer borrat\n",
    "- Ara, elimina el fitxer test2.md amb la comanda de git ```git rm```\n",
    "- Fes un commit amb el missatge \"test2 eliminat: Nom Cognom\"\n",
    "- Fes git log i copia el resultat a la següent cel·la del notebook\n"
   ]
  },
  {
   "cell_type": "markdown",
   "id": "cfa055f6",
   "metadata": {},
   "source": [
    "**Escriu el resultat de git log a continuació**:\n",
    "\n",
    "```\n",
    "# git log aquí\n",
    "\n",
    "```"
   ]
  },
  {
   "cell_type": "markdown",
   "id": "755f1b6d",
   "metadata": {},
   "source": [
    "### Fase 3\n",
    "\n",
    "- Fes un git push de la branca nivell2\n",
    "- Ves a github i, a la branca nivell2, afegeix remotament des de la web de github el fitxer test2.md\n",
    "- Fes un git pull en local i comprova que el fitxer test2.md torna a estar present en el repositori local.\n",
    "- Copia el git log a continuació:"
   ]
  },
  {
   "cell_type": "markdown",
   "id": "96e61f53",
   "metadata": {},
   "source": [
    "**Escriu el resultat de git log a continuació**:\n",
    "\n",
    "```\n",
    "# git log aquí\n",
    "\n",
    "```"
   ]
  },
  {
   "cell_type": "markdown",
   "id": "6c023776-29a4-4405-8d45-b2eda6a39496",
   "metadata": {},
   "source": [
    "## Exercici 2"
   ]
  },
  {
   "cell_type": "markdown",
   "id": "88ec1a6c-f64d-4b13-b276-83130145a367",
   "metadata": {},
   "source": [
    "En aquest exercici heu de repetir l'exercici de Visual Studi Code de creació del workspace per a python, que teniu a\n",
    "\n",
    "[VSCode: Workspaces i projectes java](https://github.com/orboan-daw/m051/blob/main/uf1/vscode/vscode-workspaces.md)\n",
    "\n",
    "però ara enlloc de python, el workspace s'anomenarà ```frontend``` (no cal crear cap projecte a dins).\n",
    "\n",
    "Per a demostrar-ho que el teniu fet correctament, heu de fer:\n",
    "\n",
    "- quan acabeu, al repo local de _workspaces_, feu un git commit (fent git add primer si cal) amb el missatge \"vscode nivell2: Nom Cognom\"\n",
    "- feu un git push de la branca main (creeu-la en local si no la teniu) per a sincronitzar el repo local amb el remot"
   ]
  },
  {
   "cell_type": "markdown",
   "id": "16813e29-10b8-45f1-84cd-84ab8da52898",
   "metadata": {},
   "source": [
    "# Instruccions de preparació del Nivell 2 per al lliurament\n",
    "\n",
    "## (A fer abans de fer el lliurament o de abans de passar al següent nivell)"
   ]
  },
  {
   "cell_type": "markdown",
   "id": "f5d5f367-a69e-4f52-bba6-16c61f822f76",
   "metadata": {},
   "source": [
    "1. Us ubiqueu al vostre directori d'inici ```~/DAW/M051/uf1/aa-m5-uf1-username```\n",
    "2. Executa la següent comanda git **dins del repositori d'inici**:\n",
    "\n",
    "```bash\n",
    "git submodule update --remote\n",
    "```\n",
    "\n",
    "Així els repos remots ```_m5git_``` i ```_workspaces_``` se t'actualitzaran amb els canvis afegit al nivell 2. \n",
    "\n",
    "Finalment, fes un git add i un git commit amb el següent missatge: **Nom Cognom: nivell 2 acabat**\n",
    "\n"
   ]
  },
  {
   "cell_type": "code",
   "execution_count": null,
   "id": "a74aa397-c4ac-4262-a3bd-21fb0ee680d8",
   "metadata": {},
   "outputs": [],
   "source": []
  }
 ],
 "metadata": {
  "kernelspec": {
   "display_name": "Bash",
   "language": "bash",
   "name": "calysto_bash"
  },
  "language_info": {
   "file_extension": ".sh",
   "help_links": [
    {
     "text": "MetaKernel Magics",
     "url": "https://metakernel.readthedocs.io/en/latest/source/README.html"
    }
   ],
   "mimetype": "text/x-sh",
   "name": "bash",
   "version": "0.2.2"
  },
  "nbTranslate": {
   "displayLangs": [
    "*"
   ],
   "hotkey": "alt-t",
   "langInMainMenu": true,
   "sourceLang": "en",
   "targetLang": "ca",
   "useGoogleTranslate": true
  },
  "toc": {
   "base_numbering": 1,
   "nav_menu": {},
   "number_sections": true,
   "sideBar": true,
   "skip_h1_title": false,
   "title_cell": "Table of Contents",
   "title_sidebar": "Contents",
   "toc_cell": false,
   "toc_position": {},
   "toc_section_display": true,
   "toc_window_display": false
  },
  "varInspector": {
   "cols": {
    "lenName": 16,
    "lenType": 16,
    "lenVar": 40
   },
   "kernels_config": {
    "python": {
     "delete_cmd_postfix": "",
     "delete_cmd_prefix": "del ",
     "library": "var_list.py",
     "varRefreshCmd": "print(var_dic_list())"
    },
    "r": {
     "delete_cmd_postfix": ") ",
     "delete_cmd_prefix": "rm(",
     "library": "var_list.r",
     "varRefreshCmd": "cat(var_dic_list()) "
    }
   },
   "types_to_exclude": [
    "module",
    "function",
    "builtin_function_or_method",
    "instance",
    "_Feature"
   ],
   "window_display": false
  }
 },
 "nbformat": 4,
 "nbformat_minor": 5
}
